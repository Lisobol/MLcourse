{
 "cells": [
  {
   "cell_type": "code",
   "execution_count": 5,
   "metadata": {},
   "outputs": [],
   "source": [
    "import pandas as pd\n",
    "import numpy as np\n",
    "pd.set_option('display.max.columns', 100)\n",
    "%matplotlib inline \n",
    "import matplotlib.pyplot as plt\n",
    "import seaborn as sns\n",
    "# we don't like warnings\n",
    "# you can comment the following 2 lines if you'd like to\n",
    "import warnings\n",
    "warnings.filterwarnings('ignore')"
   ]
  },
  {
   "cell_type": "code",
   "execution_count": 6,
   "metadata": {},
   "outputs": [
    {
     "data": {
      "text/html": [
       "<div>\n",
       "<style scoped>\n",
       "    .dataframe tbody tr th:only-of-type {\n",
       "        vertical-align: middle;\n",
       "    }\n",
       "\n",
       "    .dataframe tbody tr th {\n",
       "        vertical-align: top;\n",
       "    }\n",
       "\n",
       "    .dataframe thead th {\n",
       "        text-align: right;\n",
       "    }\n",
       "</style>\n",
       "<table border=\"1\" class=\"dataframe\">\n",
       "  <thead>\n",
       "    <tr style=\"text-align: right;\">\n",
       "      <th></th>\n",
       "      <th>age</th>\n",
       "      <th>workclass</th>\n",
       "      <th>fnlwgt</th>\n",
       "      <th>education</th>\n",
       "      <th>education-num</th>\n",
       "      <th>marital-status</th>\n",
       "      <th>occupation</th>\n",
       "      <th>relationship</th>\n",
       "      <th>race</th>\n",
       "      <th>sex</th>\n",
       "      <th>capital-gain</th>\n",
       "      <th>capital-loss</th>\n",
       "      <th>hours-per-week</th>\n",
       "      <th>native-country</th>\n",
       "      <th>salary</th>\n",
       "    </tr>\n",
       "  </thead>\n",
       "  <tbody>\n",
       "    <tr>\n",
       "      <th>0</th>\n",
       "      <td>39</td>\n",
       "      <td>State-gov</td>\n",
       "      <td>77516</td>\n",
       "      <td>Bachelors</td>\n",
       "      <td>13</td>\n",
       "      <td>Never-married</td>\n",
       "      <td>Adm-clerical</td>\n",
       "      <td>Not-in-family</td>\n",
       "      <td>White</td>\n",
       "      <td>Male</td>\n",
       "      <td>2174</td>\n",
       "      <td>0</td>\n",
       "      <td>40</td>\n",
       "      <td>United-States</td>\n",
       "      <td>&lt;=50K</td>\n",
       "    </tr>\n",
       "    <tr>\n",
       "      <th>1</th>\n",
       "      <td>50</td>\n",
       "      <td>Self-emp-not-inc</td>\n",
       "      <td>83311</td>\n",
       "      <td>Bachelors</td>\n",
       "      <td>13</td>\n",
       "      <td>Married-civ-spouse</td>\n",
       "      <td>Exec-managerial</td>\n",
       "      <td>Husband</td>\n",
       "      <td>White</td>\n",
       "      <td>Male</td>\n",
       "      <td>0</td>\n",
       "      <td>0</td>\n",
       "      <td>13</td>\n",
       "      <td>United-States</td>\n",
       "      <td>&lt;=50K</td>\n",
       "    </tr>\n",
       "    <tr>\n",
       "      <th>2</th>\n",
       "      <td>38</td>\n",
       "      <td>Private</td>\n",
       "      <td>215646</td>\n",
       "      <td>HS-grad</td>\n",
       "      <td>9</td>\n",
       "      <td>Divorced</td>\n",
       "      <td>Handlers-cleaners</td>\n",
       "      <td>Not-in-family</td>\n",
       "      <td>White</td>\n",
       "      <td>Male</td>\n",
       "      <td>0</td>\n",
       "      <td>0</td>\n",
       "      <td>40</td>\n",
       "      <td>United-States</td>\n",
       "      <td>&lt;=50K</td>\n",
       "    </tr>\n",
       "    <tr>\n",
       "      <th>3</th>\n",
       "      <td>53</td>\n",
       "      <td>Private</td>\n",
       "      <td>234721</td>\n",
       "      <td>11th</td>\n",
       "      <td>7</td>\n",
       "      <td>Married-civ-spouse</td>\n",
       "      <td>Handlers-cleaners</td>\n",
       "      <td>Husband</td>\n",
       "      <td>Black</td>\n",
       "      <td>Male</td>\n",
       "      <td>0</td>\n",
       "      <td>0</td>\n",
       "      <td>40</td>\n",
       "      <td>United-States</td>\n",
       "      <td>&lt;=50K</td>\n",
       "    </tr>\n",
       "    <tr>\n",
       "      <th>4</th>\n",
       "      <td>28</td>\n",
       "      <td>Private</td>\n",
       "      <td>338409</td>\n",
       "      <td>Bachelors</td>\n",
       "      <td>13</td>\n",
       "      <td>Married-civ-spouse</td>\n",
       "      <td>Prof-specialty</td>\n",
       "      <td>Wife</td>\n",
       "      <td>Black</td>\n",
       "      <td>Female</td>\n",
       "      <td>0</td>\n",
       "      <td>0</td>\n",
       "      <td>40</td>\n",
       "      <td>Cuba</td>\n",
       "      <td>&lt;=50K</td>\n",
       "    </tr>\n",
       "  </tbody>\n",
       "</table>\n",
       "</div>"
      ],
      "text/plain": [
       "   age         workclass  fnlwgt  education  education-num  \\\n",
       "0   39         State-gov   77516  Bachelors             13   \n",
       "1   50  Self-emp-not-inc   83311  Bachelors             13   \n",
       "2   38           Private  215646    HS-grad              9   \n",
       "3   53           Private  234721       11th              7   \n",
       "4   28           Private  338409  Bachelors             13   \n",
       "\n",
       "       marital-status         occupation   relationship   race     sex  \\\n",
       "0       Never-married       Adm-clerical  Not-in-family  White    Male   \n",
       "1  Married-civ-spouse    Exec-managerial        Husband  White    Male   \n",
       "2            Divorced  Handlers-cleaners  Not-in-family  White    Male   \n",
       "3  Married-civ-spouse  Handlers-cleaners        Husband  Black    Male   \n",
       "4  Married-civ-spouse     Prof-specialty           Wife  Black  Female   \n",
       "\n",
       "   capital-gain  capital-loss  hours-per-week native-country salary  \n",
       "0          2174             0              40  United-States  <=50K  \n",
       "1             0             0              13  United-States  <=50K  \n",
       "2             0             0              40  United-States  <=50K  \n",
       "3             0             0              40  United-States  <=50K  \n",
       "4             0             0              40           Cuba  <=50K  "
      ]
     },
     "execution_count": 6,
     "metadata": {},
     "output_type": "execute_result"
    }
   ],
   "source": [
    "data = pd.read_csv('adult_data.csv')\n",
    "data.head()"
   ]
  },
  {
   "cell_type": "code",
   "execution_count": 4,
   "metadata": {},
   "outputs": [
    {
     "data": {
      "text/plain": [
       "Male      21790\n",
       "Female    10771\n",
       "Name: sex, dtype: int64"
      ]
     },
     "execution_count": 4,
     "metadata": {},
     "output_type": "execute_result"
    }
   ],
   "source": [
    "#1. How many men and women (sex feature) are represented in this dataset?\n",
    "data['sex'].value_counts()"
   ]
  },
  {
   "cell_type": "code",
   "execution_count": 5,
   "metadata": {},
   "outputs": [],
   "source": [
    "#2. What is the average age (age feature) of women?\n",
    "female_data = data[data['sex'] == 'Female']"
   ]
  },
  {
   "cell_type": "code",
   "execution_count": 6,
   "metadata": {},
   "outputs": [
    {
     "data": {
      "text/plain": [
       "36.85823043357163"
      ]
     },
     "execution_count": 6,
     "metadata": {},
     "output_type": "execute_result"
    }
   ],
   "source": [
    "female_data['age'].mean()"
   ]
  },
  {
   "cell_type": "code",
   "execution_count": 7,
   "metadata": {},
   "outputs": [
    {
     "data": {
      "text/plain": [
       "36.85823043357163"
      ]
     },
     "execution_count": 7,
     "metadata": {},
     "output_type": "execute_result"
    }
   ],
   "source": [
    "#alt\n",
    "data.loc[data['sex'] == 'Female', 'age'].mean()"
   ]
  },
  {
   "cell_type": "code",
   "execution_count": 8,
   "metadata": {},
   "outputs": [
    {
     "data": {
      "text/plain": [
       "0.004207487485028101"
      ]
     },
     "execution_count": 8,
     "metadata": {},
     "output_type": "execute_result"
    }
   ],
   "source": [
    "#3. What is the proportion of German citizens (native-country feature)?\n",
    "float((data['native-country'] == 'Germany').sum()) / data.shape[0]"
   ]
  },
  {
   "cell_type": "code",
   "execution_count": 9,
   "metadata": {},
   "outputs": [
    {
     "name": "stdout",
     "output_type": "stream",
     "text": [
      "The average age of the rich: 44 +- 10.5 years, poor - 37 +- 14.0 years.\n"
     ]
    }
   ],
   "source": [
    "#4-5. What are mean value and standard deviation of the age \n",
    "#of those who recieve more than 50K per year (salary feature) and those who receive less than 50K per year?\n",
    "ages1 = data.loc[data['salary'] == '>50K', 'age']\n",
    "ages2 = data.loc[data['salary'] == '<=50K', 'age']\n",
    "\n",
    "print(\"The average age of the rich: {0} +- {1} years, poor - {2} +- {3} years.\".format(\n",
    "    round(ages1.mean()), round(ages1.std(), 1),\n",
    "    round(ages2.mean()), round(ages2.std(), 1)))"
   ]
  },
  {
   "cell_type": "code",
   "execution_count": 10,
   "metadata": {},
   "outputs": [
    {
     "data": {
      "text/plain": [
       "array(['HS-grad', 'Masters', 'Bachelors', 'Some-college', 'Assoc-voc',\n",
       "       'Doctorate', 'Prof-school', 'Assoc-acdm', '7th-8th', '12th',\n",
       "       '10th', '11th', '9th', '5th-6th', '1st-4th'], dtype=object)"
      ]
     },
     "execution_count": 10,
     "metadata": {},
     "output_type": "execute_result"
    }
   ],
   "source": [
    "#6. Is it true that people who receive more than 50k have at least high school education? \n",
    "#(education - Bachelors, Prof-school, Assoc-acdm, Assoc-voc, Masters or Doctorate feature)\n",
    "data.loc[data['salary'] == '>50K', 'education'].unique()"
   ]
  },
  {
   "cell_type": "code",
   "execution_count": 11,
   "metadata": {
    "scrolled": true
   },
   "outputs": [
    {
     "name": "stdout",
     "output_type": "stream",
     "text": [
      "Race: Amer-Indian-Eskimo, sex Female\n",
      "count    119.000000\n",
      "mean      37.117647\n",
      "std       13.114991\n",
      "min       17.000000\n",
      "25%       27.000000\n",
      "50%       36.000000\n",
      "75%       46.000000\n",
      "max       80.000000\n",
      "Name: age, dtype: float64\n",
      "Race: Amer-Indian-Eskimo, sex Male\n",
      "count    192.000000\n",
      "mean      37.208333\n",
      "std       12.049563\n",
      "min       17.000000\n",
      "25%       28.000000\n",
      "50%       35.000000\n",
      "75%       45.000000\n",
      "max       82.000000\n",
      "Name: age, dtype: float64\n",
      "Race: Asian-Pac-Islander, sex Female\n",
      "count    346.000000\n",
      "mean      35.089595\n",
      "std       12.300845\n",
      "min       17.000000\n",
      "25%       25.000000\n",
      "50%       33.000000\n",
      "75%       43.750000\n",
      "max       75.000000\n",
      "Name: age, dtype: float64\n",
      "Race: Asian-Pac-Islander, sex Male\n",
      "count    693.000000\n",
      "mean      39.073593\n",
      "std       12.883944\n",
      "min       18.000000\n",
      "25%       29.000000\n",
      "50%       37.000000\n",
      "75%       46.000000\n",
      "max       90.000000\n",
      "Name: age, dtype: float64\n",
      "Race: Black, sex Female\n",
      "count    1555.000000\n",
      "mean       37.854019\n",
      "std        12.637197\n",
      "min        17.000000\n",
      "25%        28.000000\n",
      "50%        37.000000\n",
      "75%        46.000000\n",
      "max        90.000000\n",
      "Name: age, dtype: float64\n",
      "Race: Black, sex Male\n",
      "count    1569.000000\n",
      "mean       37.682600\n",
      "std        12.882612\n",
      "min        17.000000\n",
      "25%        27.000000\n",
      "50%        36.000000\n",
      "75%        46.000000\n",
      "max        90.000000\n",
      "Name: age, dtype: float64\n",
      "Race: Other, sex Female\n",
      "count    109.000000\n",
      "mean      31.678899\n",
      "std       11.631599\n",
      "min       17.000000\n",
      "25%       23.000000\n",
      "50%       29.000000\n",
      "75%       39.000000\n",
      "max       74.000000\n",
      "Name: age, dtype: float64\n",
      "Race: Other, sex Male\n",
      "count    162.000000\n",
      "mean      34.654321\n",
      "std       11.355531\n",
      "min       17.000000\n",
      "25%       26.000000\n",
      "50%       32.000000\n",
      "75%       42.000000\n",
      "max       77.000000\n",
      "Name: age, dtype: float64\n",
      "Race: White, sex Female\n",
      "count    8642.000000\n",
      "mean       36.811618\n",
      "std        14.329093\n",
      "min        17.000000\n",
      "25%        25.000000\n",
      "50%        35.000000\n",
      "75%        46.000000\n",
      "max        90.000000\n",
      "Name: age, dtype: float64\n",
      "Race: White, sex Male\n",
      "count    19174.000000\n",
      "mean        39.652498\n",
      "std         13.436029\n",
      "min         17.000000\n",
      "25%         29.000000\n",
      "50%         38.000000\n",
      "75%         49.000000\n",
      "max         90.000000\n",
      "Name: age, dtype: float64\n"
     ]
    }
   ],
   "source": [
    "#7. Display statistics of age for each race (race feature) and each gender. \n",
    "#Use groupby() and describe(). Find the maximum age of men of Amer-Indian-Eskimo race.\n",
    "#data.groupby(['race', 'sex']).describe()\n",
    "for (race, sex), sub_df in data.groupby(['race', 'sex']):\n",
    "    print('Race: {0}, sex {1}'.format(race, sex))\n",
    "    print(sub_df['age'].describe())"
   ]
  },
  {
   "cell_type": "markdown",
   "metadata": {},
   "source": [
    "8. Among whom the proportion of those who earn a lot(>50K) is more: among married or single men (marital-status feature)? Consider married those who have a marital-status starting with Married (Married-civ-spouse, Married-spouse-absent or Married-AF-spouse), the rest are considered bachelors."
   ]
  },
  {
   "cell_type": "code",
   "execution_count": 12,
   "metadata": {},
   "outputs": [
    {
     "data": {
      "text/plain": [
       "<=50K    7552\n",
       ">50K      697\n",
       "Name: salary, dtype: int64"
      ]
     },
     "execution_count": 12,
     "metadata": {},
     "output_type": "execute_result"
    }
   ],
   "source": [
    "data.loc[\n",
    "    (data['sex'] == 'Male') &\n",
    "    (data['marital-status'].isin(['Never-married', \n",
    "                                   'Separated', \n",
    "                                   'Divorced',\n",
    "                                   'Widowed'])), 'salary'\n",
    "].value_counts()"
   ]
  },
  {
   "cell_type": "code",
   "execution_count": 13,
   "metadata": {},
   "outputs": [
    {
     "data": {
      "text/plain": [
       "<=50K    7576\n",
       ">50K     5965\n",
       "Name: salary, dtype: int64"
      ]
     },
     "execution_count": 13,
     "metadata": {},
     "output_type": "execute_result"
    }
   ],
   "source": [
    "data.loc[(data['sex'] == 'Male') &\n",
    "     (data['marital-status'].str.startswith('Married')), 'salary'].value_counts()"
   ]
  },
  {
   "cell_type": "code",
   "execution_count": 14,
   "metadata": {},
   "outputs": [
    {
     "data": {
      "text/plain": [
       "Married-civ-spouse       14976\n",
       "Never-married            10683\n",
       "Divorced                  4443\n",
       "Separated                 1025\n",
       "Widowed                    993\n",
       "Married-spouse-absent      418\n",
       "Married-AF-spouse           23\n",
       "Name: marital-status, dtype: int64"
      ]
     },
     "execution_count": 14,
     "metadata": {},
     "output_type": "execute_result"
    }
   ],
   "source": [
    "data['marital-status'].value_counts()"
   ]
  },
  {
   "cell_type": "markdown",
   "metadata": {},
   "source": [
    "9. What is the maximum number of hours a person works per week (hours-per-week feature)? How many people work such a number of hours and what is the percentage of those who earn a lot among them?"
   ]
  },
  {
   "cell_type": "code",
   "execution_count": 15,
   "metadata": {},
   "outputs": [
    {
     "name": "stdout",
     "output_type": "stream",
     "text": [
      "Max time - 99 hours./week.\n",
      "Total number of such hard workers 85\n",
      "Percentage of rich among them 29%\n"
     ]
    }
   ],
   "source": [
    "max_load = data['hours-per-week'].max()\n",
    "print(\"Max time - {0} hours./week.\".format(max_load))\n",
    "\n",
    "num_workaholics = data[data['hours-per-week'] == max_load].shape[0]\n",
    "print(\"Total number of such hard workers {0}\".format(num_workaholics))\n",
    "\n",
    "rich_share = float(data[(data['hours-per-week'] == max_load)\n",
    "                 & (data['salary'] == '>50K')].shape[0]) / num_workaholics\n",
    "print(\"Percentage of rich among them {0}%\".format(int(100 * rich_share)))"
   ]
  },
  {
   "cell_type": "markdown",
   "metadata": {},
   "source": [
    "10. Count the average time of work (hours-per-week) those who earning a little and a lot (salary) for each country (native-country)."
   ]
  },
  {
   "cell_type": "code",
   "execution_count": 16,
   "metadata": {},
   "outputs": [
    {
     "name": "stdout",
     "output_type": "stream",
     "text": [
      "? <=50K 40.16\n",
      "? >50K 45.55\n",
      "Cambodia <=50K 41.42\n",
      "Cambodia >50K 40.0\n",
      "Canada <=50K 37.91\n",
      "Canada >50K 45.64\n",
      "China <=50K 37.38\n",
      "China >50K 38.9\n",
      "Columbia <=50K 38.68\n",
      "Columbia >50K 50.0\n",
      "Cuba <=50K 37.99\n",
      "Cuba >50K 42.44\n",
      "Dominican-Republic <=50K 42.34\n",
      "Dominican-Republic >50K 47.0\n",
      "Ecuador <=50K 38.04\n",
      "Ecuador >50K 48.75\n",
      "El-Salvador <=50K 36.03\n",
      "El-Salvador >50K 45.0\n",
      "England <=50K 40.48\n",
      "England >50K 44.53\n",
      "France <=50K 41.06\n",
      "France >50K 50.75\n",
      "Germany <=50K 39.14\n",
      "Germany >50K 44.98\n",
      "Greece <=50K 41.81\n",
      "Greece >50K 50.62\n",
      "Guatemala <=50K 39.36\n",
      "Guatemala >50K 36.67\n",
      "Haiti <=50K 36.33\n",
      "Haiti >50K 42.75\n",
      "Holand-Netherlands <=50K 40.0\n",
      "Honduras <=50K 34.33\n",
      "Honduras >50K 60.0\n",
      "Hong <=50K 39.14\n",
      "Hong >50K 45.0\n",
      "Hungary <=50K 31.3\n",
      "Hungary >50K 50.0\n",
      "India <=50K 38.23\n",
      "India >50K 46.48\n",
      "Iran <=50K 41.44\n",
      "Iran >50K 47.5\n",
      "Ireland <=50K 40.95\n",
      "Ireland >50K 48.0\n",
      "Italy <=50K 39.62\n",
      "Italy >50K 45.4\n",
      "Jamaica <=50K 38.24\n",
      "Jamaica >50K 41.1\n",
      "Japan <=50K 41.0\n",
      "Japan >50K 47.96\n",
      "Laos <=50K 40.38\n",
      "Laos >50K 40.0\n",
      "Mexico <=50K 40.0\n",
      "Mexico >50K 46.58\n",
      "Nicaragua <=50K 36.09\n",
      "Nicaragua >50K 37.5\n",
      "Outlying-US(Guam-USVI-etc) <=50K 41.86\n",
      "Peru <=50K 35.07\n",
      "Peru >50K 40.0\n",
      "Philippines <=50K 38.07\n",
      "Philippines >50K 43.03\n",
      "Poland <=50K 38.17\n",
      "Poland >50K 39.0\n",
      "Portugal <=50K 41.94\n",
      "Portugal >50K 41.5\n",
      "Puerto-Rico <=50K 38.47\n",
      "Puerto-Rico >50K 39.42\n",
      "Scotland <=50K 39.44\n",
      "Scotland >50K 46.67\n",
      "South <=50K 40.16\n",
      "South >50K 51.44\n",
      "Taiwan <=50K 33.77\n",
      "Taiwan >50K 46.8\n",
      "Thailand <=50K 42.87\n",
      "Thailand >50K 58.33\n",
      "Trinadad&Tobago <=50K 37.06\n",
      "Trinadad&Tobago >50K 40.0\n",
      "United-States <=50K 38.8\n",
      "United-States >50K 45.51\n",
      "Vietnam <=50K 37.19\n",
      "Vietnam >50K 39.2\n",
      "Yugoslavia <=50K 41.6\n",
      "Yugoslavia >50K 49.5\n"
     ]
    }
   ],
   "source": [
    "for (country, salary), sub_df in data.groupby(['native-country', 'salary']):\n",
    "    print(country, salary, round(sub_df['hours-per-week'].mean(), 2))"
   ]
  },
  {
   "cell_type": "code",
   "execution_count": 17,
   "metadata": {},
   "outputs": [
    {
     "data": {
      "text/html": [
       "<div>\n",
       "<style scoped>\n",
       "    .dataframe tbody tr th:only-of-type {\n",
       "        vertical-align: middle;\n",
       "    }\n",
       "\n",
       "    .dataframe tbody tr th {\n",
       "        vertical-align: top;\n",
       "    }\n",
       "\n",
       "    .dataframe thead th {\n",
       "        text-align: right;\n",
       "    }\n",
       "</style>\n",
       "<table border=\"1\" class=\"dataframe\">\n",
       "  <thead>\n",
       "    <tr style=\"text-align: right;\">\n",
       "      <th>native-country</th>\n",
       "      <th>?</th>\n",
       "      <th>Cambodia</th>\n",
       "      <th>Canada</th>\n",
       "      <th>China</th>\n",
       "      <th>Columbia</th>\n",
       "      <th>Cuba</th>\n",
       "      <th>Dominican-Republic</th>\n",
       "      <th>Ecuador</th>\n",
       "      <th>El-Salvador</th>\n",
       "      <th>England</th>\n",
       "      <th>France</th>\n",
       "      <th>Germany</th>\n",
       "      <th>Greece</th>\n",
       "      <th>Guatemala</th>\n",
       "      <th>Haiti</th>\n",
       "      <th>Holand-Netherlands</th>\n",
       "      <th>Honduras</th>\n",
       "      <th>Hong</th>\n",
       "      <th>Hungary</th>\n",
       "      <th>India</th>\n",
       "      <th>Iran</th>\n",
       "      <th>Ireland</th>\n",
       "      <th>Italy</th>\n",
       "      <th>Jamaica</th>\n",
       "      <th>Japan</th>\n",
       "      <th>Laos</th>\n",
       "      <th>Mexico</th>\n",
       "      <th>Nicaragua</th>\n",
       "      <th>Outlying-US(Guam-USVI-etc)</th>\n",
       "      <th>Peru</th>\n",
       "      <th>Philippines</th>\n",
       "      <th>Poland</th>\n",
       "      <th>Portugal</th>\n",
       "      <th>Puerto-Rico</th>\n",
       "      <th>Scotland</th>\n",
       "      <th>South</th>\n",
       "      <th>Taiwan</th>\n",
       "      <th>Thailand</th>\n",
       "      <th>Trinadad&amp;Tobago</th>\n",
       "      <th>United-States</th>\n",
       "      <th>Vietnam</th>\n",
       "      <th>Yugoslavia</th>\n",
       "    </tr>\n",
       "    <tr>\n",
       "      <th>salary</th>\n",
       "      <th></th>\n",
       "      <th></th>\n",
       "      <th></th>\n",
       "      <th></th>\n",
       "      <th></th>\n",
       "      <th></th>\n",
       "      <th></th>\n",
       "      <th></th>\n",
       "      <th></th>\n",
       "      <th></th>\n",
       "      <th></th>\n",
       "      <th></th>\n",
       "      <th></th>\n",
       "      <th></th>\n",
       "      <th></th>\n",
       "      <th></th>\n",
       "      <th></th>\n",
       "      <th></th>\n",
       "      <th></th>\n",
       "      <th></th>\n",
       "      <th></th>\n",
       "      <th></th>\n",
       "      <th></th>\n",
       "      <th></th>\n",
       "      <th></th>\n",
       "      <th></th>\n",
       "      <th></th>\n",
       "      <th></th>\n",
       "      <th></th>\n",
       "      <th></th>\n",
       "      <th></th>\n",
       "      <th></th>\n",
       "      <th></th>\n",
       "      <th></th>\n",
       "      <th></th>\n",
       "      <th></th>\n",
       "      <th></th>\n",
       "      <th></th>\n",
       "      <th></th>\n",
       "      <th></th>\n",
       "      <th></th>\n",
       "      <th></th>\n",
       "    </tr>\n",
       "  </thead>\n",
       "  <tbody>\n",
       "    <tr>\n",
       "      <td>&lt;=50K</td>\n",
       "      <td>40.164760</td>\n",
       "      <td>41.416667</td>\n",
       "      <td>37.914634</td>\n",
       "      <td>37.381818</td>\n",
       "      <td>38.684211</td>\n",
       "      <td>37.985714</td>\n",
       "      <td>42.338235</td>\n",
       "      <td>38.041667</td>\n",
       "      <td>36.030928</td>\n",
       "      <td>40.483333</td>\n",
       "      <td>41.058824</td>\n",
       "      <td>39.139785</td>\n",
       "      <td>41.809524</td>\n",
       "      <td>39.360656</td>\n",
       "      <td>36.325</td>\n",
       "      <td>40.0</td>\n",
       "      <td>34.333333</td>\n",
       "      <td>39.142857</td>\n",
       "      <td>31.3</td>\n",
       "      <td>38.233333</td>\n",
       "      <td>41.44</td>\n",
       "      <td>40.947368</td>\n",
       "      <td>39.625</td>\n",
       "      <td>38.239437</td>\n",
       "      <td>41.000000</td>\n",
       "      <td>40.375</td>\n",
       "      <td>40.003279</td>\n",
       "      <td>36.09375</td>\n",
       "      <td>41.857143</td>\n",
       "      <td>35.068966</td>\n",
       "      <td>38.065693</td>\n",
       "      <td>38.166667</td>\n",
       "      <td>41.939394</td>\n",
       "      <td>38.470588</td>\n",
       "      <td>39.444444</td>\n",
       "      <td>40.15625</td>\n",
       "      <td>33.774194</td>\n",
       "      <td>42.866667</td>\n",
       "      <td>37.058824</td>\n",
       "      <td>38.799127</td>\n",
       "      <td>37.193548</td>\n",
       "      <td>41.6</td>\n",
       "    </tr>\n",
       "    <tr>\n",
       "      <td>&gt;50K</td>\n",
       "      <td>45.547945</td>\n",
       "      <td>40.000000</td>\n",
       "      <td>45.641026</td>\n",
       "      <td>38.900000</td>\n",
       "      <td>50.000000</td>\n",
       "      <td>42.440000</td>\n",
       "      <td>47.000000</td>\n",
       "      <td>48.750000</td>\n",
       "      <td>45.000000</td>\n",
       "      <td>44.533333</td>\n",
       "      <td>50.750000</td>\n",
       "      <td>44.977273</td>\n",
       "      <td>50.625000</td>\n",
       "      <td>36.666667</td>\n",
       "      <td>42.750</td>\n",
       "      <td>NaN</td>\n",
       "      <td>60.000000</td>\n",
       "      <td>45.000000</td>\n",
       "      <td>50.0</td>\n",
       "      <td>46.475000</td>\n",
       "      <td>47.50</td>\n",
       "      <td>48.000000</td>\n",
       "      <td>45.400</td>\n",
       "      <td>41.100000</td>\n",
       "      <td>47.958333</td>\n",
       "      <td>40.000</td>\n",
       "      <td>46.575758</td>\n",
       "      <td>37.50000</td>\n",
       "      <td>NaN</td>\n",
       "      <td>40.000000</td>\n",
       "      <td>43.032787</td>\n",
       "      <td>39.000000</td>\n",
       "      <td>41.500000</td>\n",
       "      <td>39.416667</td>\n",
       "      <td>46.666667</td>\n",
       "      <td>51.43750</td>\n",
       "      <td>46.800000</td>\n",
       "      <td>58.333333</td>\n",
       "      <td>40.000000</td>\n",
       "      <td>45.505369</td>\n",
       "      <td>39.200000</td>\n",
       "      <td>49.5</td>\n",
       "    </tr>\n",
       "  </tbody>\n",
       "</table>\n",
       "</div>"
      ],
      "text/plain": [
       "native-country          ?   Cambodia     Canada      China   Columbia  \\\n",
       "salary                                                                  \n",
       "<=50K           40.164760  41.416667  37.914634  37.381818  38.684211   \n",
       ">50K            45.547945  40.000000  45.641026  38.900000  50.000000   \n",
       "\n",
       "native-country       Cuba  Dominican-Republic    Ecuador  El-Salvador  \\\n",
       "salary                                                                  \n",
       "<=50K           37.985714           42.338235  38.041667    36.030928   \n",
       ">50K            42.440000           47.000000  48.750000    45.000000   \n",
       "\n",
       "native-country    England     France    Germany     Greece  Guatemala   Haiti  \\\n",
       "salary                                                                          \n",
       "<=50K           40.483333  41.058824  39.139785  41.809524  39.360656  36.325   \n",
       ">50K            44.533333  50.750000  44.977273  50.625000  36.666667  42.750   \n",
       "\n",
       "native-country  Holand-Netherlands   Honduras       Hong  Hungary      India  \\\n",
       "salary                                                                         \n",
       "<=50K                         40.0  34.333333  39.142857     31.3  38.233333   \n",
       ">50K                           NaN  60.000000  45.000000     50.0  46.475000   \n",
       "\n",
       "native-country   Iran    Ireland   Italy    Jamaica      Japan    Laos  \\\n",
       "salary                                                                   \n",
       "<=50K           41.44  40.947368  39.625  38.239437  41.000000  40.375   \n",
       ">50K            47.50  48.000000  45.400  41.100000  47.958333  40.000   \n",
       "\n",
       "native-country     Mexico  Nicaragua  Outlying-US(Guam-USVI-etc)       Peru  \\\n",
       "salary                                                                        \n",
       "<=50K           40.003279   36.09375                   41.857143  35.068966   \n",
       ">50K            46.575758   37.50000                         NaN  40.000000   \n",
       "\n",
       "native-country  Philippines     Poland   Portugal  Puerto-Rico   Scotland  \\\n",
       "salary                                                                      \n",
       "<=50K             38.065693  38.166667  41.939394    38.470588  39.444444   \n",
       ">50K              43.032787  39.000000  41.500000    39.416667  46.666667   \n",
       "\n",
       "native-country     South     Taiwan   Thailand  Trinadad&Tobago  \\\n",
       "salary                                                            \n",
       "<=50K           40.15625  33.774194  42.866667        37.058824   \n",
       ">50K            51.43750  46.800000  58.333333        40.000000   \n",
       "\n",
       "native-country  United-States    Vietnam  Yugoslavia  \n",
       "salary                                                \n",
       "<=50K               38.799127  37.193548        41.6  \n",
       ">50K                45.505369  39.200000        49.5  "
      ]
     },
     "execution_count": 17,
     "metadata": {},
     "output_type": "execute_result"
    }
   ],
   "source": [
    "pd.crosstab(data['native-country'], data['salary'], \n",
    "           values=data['hours-per-week'], aggfunc=np.mean).T"
   ]
  },
  {
   "cell_type": "markdown",
   "metadata": {},
   "source": [
    "# PART 2"
   ]
  },
  {
   "cell_type": "code",
   "execution_count": 7,
   "metadata": {},
   "outputs": [],
   "source": [
    "user_usage = pd.read_csv(\"user_usage.csv\")\n",
    "user_device = pd.read_csv(\"user_device.csv\")\n",
    "android_devices = pd.read_csv(\"android_devices.csv\")\n"
   ]
  },
  {
   "cell_type": "code",
   "execution_count": 24,
   "metadata": {},
   "outputs": [
    {
     "data": {
      "text/html": [
       "<div>\n",
       "<style scoped>\n",
       "    .dataframe tbody tr th:only-of-type {\n",
       "        vertical-align: middle;\n",
       "    }\n",
       "\n",
       "    .dataframe tbody tr th {\n",
       "        vertical-align: top;\n",
       "    }\n",
       "\n",
       "    .dataframe thead th {\n",
       "        text-align: right;\n",
       "    }\n",
       "</style>\n",
       "<table border=\"1\" class=\"dataframe\">\n",
       "  <thead>\n",
       "    <tr style=\"text-align: right;\">\n",
       "      <th></th>\n",
       "      <th>Retail Branding</th>\n",
       "      <th>Marketing Name</th>\n",
       "      <th>Device</th>\n",
       "      <th>Model</th>\n",
       "    </tr>\n",
       "  </thead>\n",
       "  <tbody>\n",
       "    <tr>\n",
       "      <td>0</td>\n",
       "      <td>NaN</td>\n",
       "      <td>NaN</td>\n",
       "      <td>AD681H</td>\n",
       "      <td>Smartfren Andromax AD681H</td>\n",
       "    </tr>\n",
       "    <tr>\n",
       "      <td>1</td>\n",
       "      <td>NaN</td>\n",
       "      <td>NaN</td>\n",
       "      <td>FJL21</td>\n",
       "      <td>FJL21</td>\n",
       "    </tr>\n",
       "    <tr>\n",
       "      <td>2</td>\n",
       "      <td>NaN</td>\n",
       "      <td>NaN</td>\n",
       "      <td>T31</td>\n",
       "      <td>Panasonic T31</td>\n",
       "    </tr>\n",
       "    <tr>\n",
       "      <td>3</td>\n",
       "      <td>NaN</td>\n",
       "      <td>NaN</td>\n",
       "      <td>hws7721g</td>\n",
       "      <td>MediaPad 7 Youth 2</td>\n",
       "    </tr>\n",
       "    <tr>\n",
       "      <td>4</td>\n",
       "      <td>3Q</td>\n",
       "      <td>OC1020A</td>\n",
       "      <td>OC1020A</td>\n",
       "      <td>OC1020A</td>\n",
       "    </tr>\n",
       "  </tbody>\n",
       "</table>\n",
       "</div>"
      ],
      "text/plain": [
       "  Retail Branding Marketing Name    Device                      Model\n",
       "0             NaN            NaN    AD681H  Smartfren Andromax AD681H\n",
       "1             NaN            NaN     FJL21                      FJL21\n",
       "2             NaN            NaN       T31              Panasonic T31\n",
       "3             NaN            NaN  hws7721g         MediaPad 7 Youth 2\n",
       "4              3Q        OC1020A   OC1020A                    OC1020A"
      ]
     },
     "execution_count": 24,
     "metadata": {},
     "output_type": "execute_result"
    }
   ],
   "source": [
    "android_devices.head()"
   ]
  },
  {
   "cell_type": "code",
   "execution_count": 25,
   "metadata": {},
   "outputs": [
    {
     "data": {
      "text/html": [
       "<div>\n",
       "<style scoped>\n",
       "    .dataframe tbody tr th:only-of-type {\n",
       "        vertical-align: middle;\n",
       "    }\n",
       "\n",
       "    .dataframe tbody tr th {\n",
       "        vertical-align: top;\n",
       "    }\n",
       "\n",
       "    .dataframe thead th {\n",
       "        text-align: right;\n",
       "    }\n",
       "</style>\n",
       "<table border=\"1\" class=\"dataframe\">\n",
       "  <thead>\n",
       "    <tr style=\"text-align: right;\">\n",
       "      <th></th>\n",
       "      <th>outgoing_mins_per_month</th>\n",
       "      <th>outgoing_sms_per_month</th>\n",
       "      <th>monthly_mb</th>\n",
       "      <th>use_id</th>\n",
       "    </tr>\n",
       "  </thead>\n",
       "  <tbody>\n",
       "    <tr>\n",
       "      <td>0</td>\n",
       "      <td>21.97</td>\n",
       "      <td>4.82</td>\n",
       "      <td>1557.33</td>\n",
       "      <td>22787</td>\n",
       "    </tr>\n",
       "    <tr>\n",
       "      <td>1</td>\n",
       "      <td>1710.08</td>\n",
       "      <td>136.88</td>\n",
       "      <td>7267.55</td>\n",
       "      <td>22788</td>\n",
       "    </tr>\n",
       "    <tr>\n",
       "      <td>2</td>\n",
       "      <td>1710.08</td>\n",
       "      <td>136.88</td>\n",
       "      <td>7267.55</td>\n",
       "      <td>22789</td>\n",
       "    </tr>\n",
       "    <tr>\n",
       "      <td>3</td>\n",
       "      <td>94.46</td>\n",
       "      <td>35.17</td>\n",
       "      <td>519.12</td>\n",
       "      <td>22790</td>\n",
       "    </tr>\n",
       "    <tr>\n",
       "      <td>4</td>\n",
       "      <td>71.59</td>\n",
       "      <td>79.26</td>\n",
       "      <td>1557.33</td>\n",
       "      <td>22792</td>\n",
       "    </tr>\n",
       "  </tbody>\n",
       "</table>\n",
       "</div>"
      ],
      "text/plain": [
       "   outgoing_mins_per_month  outgoing_sms_per_month  monthly_mb  use_id\n",
       "0                    21.97                    4.82     1557.33   22787\n",
       "1                  1710.08                  136.88     7267.55   22788\n",
       "2                  1710.08                  136.88     7267.55   22789\n",
       "3                    94.46                   35.17      519.12   22790\n",
       "4                    71.59                   79.26     1557.33   22792"
      ]
     },
     "execution_count": 25,
     "metadata": {},
     "output_type": "execute_result"
    }
   ],
   "source": [
    "user_usage.head()"
   ]
  },
  {
   "cell_type": "code",
   "execution_count": 26,
   "metadata": {},
   "outputs": [
    {
     "data": {
      "text/html": [
       "<div>\n",
       "<style scoped>\n",
       "    .dataframe tbody tr th:only-of-type {\n",
       "        vertical-align: middle;\n",
       "    }\n",
       "\n",
       "    .dataframe tbody tr th {\n",
       "        vertical-align: top;\n",
       "    }\n",
       "\n",
       "    .dataframe thead th {\n",
       "        text-align: right;\n",
       "    }\n",
       "</style>\n",
       "<table border=\"1\" class=\"dataframe\">\n",
       "  <thead>\n",
       "    <tr style=\"text-align: right;\">\n",
       "      <th></th>\n",
       "      <th>use_id</th>\n",
       "      <th>user_id</th>\n",
       "      <th>platform</th>\n",
       "      <th>platform_version</th>\n",
       "      <th>device</th>\n",
       "      <th>use_type_id</th>\n",
       "    </tr>\n",
       "  </thead>\n",
       "  <tbody>\n",
       "    <tr>\n",
       "      <td>0</td>\n",
       "      <td>22782</td>\n",
       "      <td>26980</td>\n",
       "      <td>ios</td>\n",
       "      <td>10.2</td>\n",
       "      <td>iPhone7,2</td>\n",
       "      <td>2</td>\n",
       "    </tr>\n",
       "    <tr>\n",
       "      <td>1</td>\n",
       "      <td>22783</td>\n",
       "      <td>29628</td>\n",
       "      <td>android</td>\n",
       "      <td>6.0</td>\n",
       "      <td>Nexus 5</td>\n",
       "      <td>3</td>\n",
       "    </tr>\n",
       "    <tr>\n",
       "      <td>2</td>\n",
       "      <td>22784</td>\n",
       "      <td>28473</td>\n",
       "      <td>android</td>\n",
       "      <td>5.1</td>\n",
       "      <td>SM-G903F</td>\n",
       "      <td>1</td>\n",
       "    </tr>\n",
       "    <tr>\n",
       "      <td>3</td>\n",
       "      <td>22785</td>\n",
       "      <td>15200</td>\n",
       "      <td>ios</td>\n",
       "      <td>10.2</td>\n",
       "      <td>iPhone7,2</td>\n",
       "      <td>3</td>\n",
       "    </tr>\n",
       "    <tr>\n",
       "      <td>4</td>\n",
       "      <td>22786</td>\n",
       "      <td>28239</td>\n",
       "      <td>android</td>\n",
       "      <td>6.0</td>\n",
       "      <td>ONE E1003</td>\n",
       "      <td>1</td>\n",
       "    </tr>\n",
       "  </tbody>\n",
       "</table>\n",
       "</div>"
      ],
      "text/plain": [
       "   use_id  user_id platform  platform_version     device  use_type_id\n",
       "0   22782    26980      ios              10.2  iPhone7,2            2\n",
       "1   22783    29628  android               6.0    Nexus 5            3\n",
       "2   22784    28473  android               5.1   SM-G903F            1\n",
       "3   22785    15200      ios              10.2  iPhone7,2            3\n",
       "4   22786    28239  android               6.0  ONE E1003            1"
      ]
     },
     "execution_count": 26,
     "metadata": {},
     "output_type": "execute_result"
    }
   ],
   "source": [
    "user_device.head()"
   ]
  },
  {
   "cell_type": "code",
   "execution_count": 27,
   "metadata": {},
   "outputs": [],
   "source": [
    "merged = pd.merge(user_usage, \n",
    "                  user_device[['use_id', 'device', 'platform']],\n",
    "                  on='use_id')"
   ]
  },
  {
   "cell_type": "code",
   "execution_count": 28,
   "metadata": {},
   "outputs": [
    {
     "data": {
      "text/html": [
       "<div>\n",
       "<style scoped>\n",
       "    .dataframe tbody tr th:only-of-type {\n",
       "        vertical-align: middle;\n",
       "    }\n",
       "\n",
       "    .dataframe tbody tr th {\n",
       "        vertical-align: top;\n",
       "    }\n",
       "\n",
       "    .dataframe thead th {\n",
       "        text-align: right;\n",
       "    }\n",
       "</style>\n",
       "<table border=\"1\" class=\"dataframe\">\n",
       "  <thead>\n",
       "    <tr style=\"text-align: right;\">\n",
       "      <th></th>\n",
       "      <th>outgoing_mins_per_month</th>\n",
       "      <th>outgoing_sms_per_month</th>\n",
       "      <th>monthly_mb</th>\n",
       "      <th>use_id</th>\n",
       "      <th>device</th>\n",
       "      <th>platform</th>\n",
       "    </tr>\n",
       "  </thead>\n",
       "  <tbody>\n",
       "    <tr>\n",
       "      <td>0</td>\n",
       "      <td>21.97</td>\n",
       "      <td>4.82</td>\n",
       "      <td>1557.33</td>\n",
       "      <td>22787</td>\n",
       "      <td>GT-I9505</td>\n",
       "      <td>android</td>\n",
       "    </tr>\n",
       "    <tr>\n",
       "      <td>1</td>\n",
       "      <td>1710.08</td>\n",
       "      <td>136.88</td>\n",
       "      <td>7267.55</td>\n",
       "      <td>22788</td>\n",
       "      <td>SM-G930F</td>\n",
       "      <td>android</td>\n",
       "    </tr>\n",
       "    <tr>\n",
       "      <td>2</td>\n",
       "      <td>1710.08</td>\n",
       "      <td>136.88</td>\n",
       "      <td>7267.55</td>\n",
       "      <td>22789</td>\n",
       "      <td>SM-G930F</td>\n",
       "      <td>android</td>\n",
       "    </tr>\n",
       "    <tr>\n",
       "      <td>3</td>\n",
       "      <td>94.46</td>\n",
       "      <td>35.17</td>\n",
       "      <td>519.12</td>\n",
       "      <td>22790</td>\n",
       "      <td>D2303</td>\n",
       "      <td>android</td>\n",
       "    </tr>\n",
       "    <tr>\n",
       "      <td>4</td>\n",
       "      <td>71.59</td>\n",
       "      <td>79.26</td>\n",
       "      <td>1557.33</td>\n",
       "      <td>22792</td>\n",
       "      <td>SM-G361F</td>\n",
       "      <td>android</td>\n",
       "    </tr>\n",
       "  </tbody>\n",
       "</table>\n",
       "</div>"
      ],
      "text/plain": [
       "   outgoing_mins_per_month  outgoing_sms_per_month  monthly_mb  use_id  \\\n",
       "0                    21.97                    4.82     1557.33   22787   \n",
       "1                  1710.08                  136.88     7267.55   22788   \n",
       "2                  1710.08                  136.88     7267.55   22789   \n",
       "3                    94.46                   35.17      519.12   22790   \n",
       "4                    71.59                   79.26     1557.33   22792   \n",
       "\n",
       "     device platform  \n",
       "0  GT-I9505  android  \n",
       "1  SM-G930F  android  \n",
       "2  SM-G930F  android  \n",
       "3     D2303  android  \n",
       "4  SM-G361F  android  "
      ]
     },
     "execution_count": 28,
     "metadata": {},
     "output_type": "execute_result"
    }
   ],
   "source": [
    "merged.head()"
   ]
  },
  {
   "cell_type": "code",
   "execution_count": 29,
   "metadata": {},
   "outputs": [
    {
     "name": "stdout",
     "output_type": "stream",
     "text": [
      "user_usage dimensions: (240, 4)\n",
      "user_device dimensions: (272, 3)\n"
     ]
    }
   ],
   "source": [
    "print(\"user_usage dimensions: {}\".format(user_usage.shape))\n",
    "print(\"user_device dimensions: {}\".format(user_device[['use_id', 'platform', 'device']].shape))\n"
   ]
  },
  {
   "cell_type": "code",
   "execution_count": 30,
   "metadata": {},
   "outputs": [
    {
     "data": {
      "text/plain": [
       "True     159\n",
       "False     81\n",
       "Name: use_id, dtype: int64"
      ]
     },
     "execution_count": 30,
     "metadata": {},
     "output_type": "execute_result"
    }
   ],
   "source": [
    "user_usage['use_id'].isin(user_device['use_id']).value_counts()"
   ]
  },
  {
   "cell_type": "code",
   "execution_count": 34,
   "metadata": {},
   "outputs": [
    {
     "name": "stdout",
     "output_type": "stream",
     "text": [
      "user_usage dimensions: (240, 4)\n",
      "merged dimensions: (240, 6)\n",
      "Missing values: 81\n"
     ]
    }
   ],
   "source": [
    "merged = pd.merge(user_usage,\n",
    "                 user_device[['use_id', 'device', 'platform']],\n",
    "                 on='use_id',\n",
    "                  how='left')\n",
    "print(\"user_usage dimensions: {}\".format(user_usage.shape))\n",
    "print(\"merged dimensions: {}\".format(merged.shape))\n",
    "print(\"Missing values: {}\".format(merged['device'].isnull().sum()))"
   ]
  },
  {
   "cell_type": "code",
   "execution_count": 33,
   "metadata": {},
   "outputs": [
    {
     "data": {
      "text/html": [
       "<div>\n",
       "<style scoped>\n",
       "    .dataframe tbody tr th:only-of-type {\n",
       "        vertical-align: middle;\n",
       "    }\n",
       "\n",
       "    .dataframe tbody tr th {\n",
       "        vertical-align: top;\n",
       "    }\n",
       "\n",
       "    .dataframe thead th {\n",
       "        text-align: right;\n",
       "    }\n",
       "</style>\n",
       "<table border=\"1\" class=\"dataframe\">\n",
       "  <thead>\n",
       "    <tr style=\"text-align: right;\">\n",
       "      <th></th>\n",
       "      <th>outgoing_mins_per_month</th>\n",
       "      <th>outgoing_sms_per_month</th>\n",
       "      <th>monthly_mb</th>\n",
       "      <th>use_id</th>\n",
       "      <th>device</th>\n",
       "      <th>platform</th>\n",
       "    </tr>\n",
       "  </thead>\n",
       "  <tbody>\n",
       "    <tr>\n",
       "      <td>235</td>\n",
       "      <td>260.66</td>\n",
       "      <td>68.44</td>\n",
       "      <td>896.96</td>\n",
       "      <td>25008</td>\n",
       "      <td>NaN</td>\n",
       "      <td>NaN</td>\n",
       "    </tr>\n",
       "    <tr>\n",
       "      <td>236</td>\n",
       "      <td>97.12</td>\n",
       "      <td>36.50</td>\n",
       "      <td>2815.00</td>\n",
       "      <td>25040</td>\n",
       "      <td>NaN</td>\n",
       "      <td>NaN</td>\n",
       "    </tr>\n",
       "    <tr>\n",
       "      <td>237</td>\n",
       "      <td>355.93</td>\n",
       "      <td>12.37</td>\n",
       "      <td>6828.09</td>\n",
       "      <td>25046</td>\n",
       "      <td>NaN</td>\n",
       "      <td>NaN</td>\n",
       "    </tr>\n",
       "    <tr>\n",
       "      <td>238</td>\n",
       "      <td>632.06</td>\n",
       "      <td>120.46</td>\n",
       "      <td>1453.16</td>\n",
       "      <td>25058</td>\n",
       "      <td>NaN</td>\n",
       "      <td>NaN</td>\n",
       "    </tr>\n",
       "    <tr>\n",
       "      <td>239</td>\n",
       "      <td>488.70</td>\n",
       "      <td>906.92</td>\n",
       "      <td>3089.85</td>\n",
       "      <td>25220</td>\n",
       "      <td>NaN</td>\n",
       "      <td>NaN</td>\n",
       "    </tr>\n",
       "  </tbody>\n",
       "</table>\n",
       "</div>"
      ],
      "text/plain": [
       "     outgoing_mins_per_month  outgoing_sms_per_month  monthly_mb  use_id  \\\n",
       "235                   260.66                   68.44      896.96   25008   \n",
       "236                    97.12                   36.50     2815.00   25040   \n",
       "237                   355.93                   12.37     6828.09   25046   \n",
       "238                   632.06                  120.46     1453.16   25058   \n",
       "239                   488.70                  906.92     3089.85   25220   \n",
       "\n",
       "    device platform  \n",
       "235    NaN      NaN  \n",
       "236    NaN      NaN  \n",
       "237    NaN      NaN  \n",
       "238    NaN      NaN  \n",
       "239    NaN      NaN  "
      ]
     },
     "execution_count": 33,
     "metadata": {},
     "output_type": "execute_result"
    }
   ],
   "source": [
    "merged.tail()"
   ]
  },
  {
   "cell_type": "code",
   "execution_count": 35,
   "metadata": {},
   "outputs": [
    {
     "name": "stdout",
     "output_type": "stream",
     "text": [
      "user_device dimensions: (272, 6)\n",
      "merged dimensions: (272, 6)\n",
      "Missing values in monthly_mb: 113\n",
      "Missing values in platform: 0\n"
     ]
    }
   ],
   "source": [
    "merged = pd.merge(user_usage,\n",
    "                 user_device[['use_id', 'device', 'platform']],\n",
    "                 on='use_id',\n",
    "                 how='right')\n",
    "print(\"user_device dimensions: {}\".format(user_device.shape))\n",
    "print(\"merged dimensions: {}\".format(merged.shape))\n",
    "print(\"Missing values in monthly_mb: {}\".format(\n",
    "        merged['monthly_mb'].isnull().sum()))\n",
    "print(\"Missing values in platform: {}\".format(\n",
    "        merged['platform'].isnull().sum()))"
   ]
  },
  {
   "cell_type": "code",
   "execution_count": 37,
   "metadata": {},
   "outputs": [
    {
     "name": "stdout",
     "output_type": "stream",
     "text": [
      "Rows in outer merge: (353, 7)\n",
      "No missing values: 159\n"
     ]
    }
   ],
   "source": [
    "merged = pd.merge(user_usage,\n",
    "                 user_device[['use_id', 'device', 'platform']],\n",
    "                 on='use_id',\n",
    "                 how='outer',\n",
    "                 indicator=True)\n",
    "\n",
    "print(\"Rows in outer merge: {}\".format(merged.shape))\n",
    "\n",
    "print(\"No missing values: {}\".format(\n",
    "    (merged.apply(lambda x: x.isnull().sum(), axis=1) == 0).sum()))"
   ]
  },
  {
   "cell_type": "code",
   "execution_count": 44,
   "metadata": {},
   "outputs": [
    {
     "data": {
      "text/html": [
       "<div>\n",
       "<style scoped>\n",
       "    .dataframe tbody tr th:only-of-type {\n",
       "        vertical-align: middle;\n",
       "    }\n",
       "\n",
       "    .dataframe tbody tr th {\n",
       "        vertical-align: top;\n",
       "    }\n",
       "\n",
       "    .dataframe thead th {\n",
       "        text-align: right;\n",
       "    }\n",
       "</style>\n",
       "<table border=\"1\" class=\"dataframe\">\n",
       "  <thead>\n",
       "    <tr style=\"text-align: right;\">\n",
       "      <th></th>\n",
       "      <th>outgoing_mins_per_month</th>\n",
       "      <th>outgoing_sms_per_month</th>\n",
       "      <th>monthly_mb</th>\n",
       "      <th>use_id</th>\n",
       "      <th>platform</th>\n",
       "      <th>device</th>\n",
       "      <th>manufacturer</th>\n",
       "      <th>Model</th>\n",
       "    </tr>\n",
       "  </thead>\n",
       "  <tbody>\n",
       "    <tr>\n",
       "      <td>0</td>\n",
       "      <td>21.97</td>\n",
       "      <td>4.82</td>\n",
       "      <td>1557.33</td>\n",
       "      <td>22787</td>\n",
       "      <td>android</td>\n",
       "      <td>GT-I9505</td>\n",
       "      <td>Samsung</td>\n",
       "      <td>GT-I9505</td>\n",
       "    </tr>\n",
       "    <tr>\n",
       "      <td>1</td>\n",
       "      <td>1710.08</td>\n",
       "      <td>136.88</td>\n",
       "      <td>7267.55</td>\n",
       "      <td>22788</td>\n",
       "      <td>android</td>\n",
       "      <td>SM-G930F</td>\n",
       "      <td>Samsung</td>\n",
       "      <td>SM-G930F</td>\n",
       "    </tr>\n",
       "    <tr>\n",
       "      <td>2</td>\n",
       "      <td>1710.08</td>\n",
       "      <td>136.88</td>\n",
       "      <td>7267.55</td>\n",
       "      <td>22789</td>\n",
       "      <td>android</td>\n",
       "      <td>SM-G930F</td>\n",
       "      <td>Samsung</td>\n",
       "      <td>SM-G930F</td>\n",
       "    </tr>\n",
       "    <tr>\n",
       "      <td>3</td>\n",
       "      <td>94.46</td>\n",
       "      <td>35.17</td>\n",
       "      <td>519.12</td>\n",
       "      <td>22790</td>\n",
       "      <td>android</td>\n",
       "      <td>D2303</td>\n",
       "      <td>Sony</td>\n",
       "      <td>D2303</td>\n",
       "    </tr>\n",
       "    <tr>\n",
       "      <td>4</td>\n",
       "      <td>71.59</td>\n",
       "      <td>79.26</td>\n",
       "      <td>1557.33</td>\n",
       "      <td>22792</td>\n",
       "      <td>android</td>\n",
       "      <td>SM-G361F</td>\n",
       "      <td>Samsung</td>\n",
       "      <td>SM-G361F</td>\n",
       "    </tr>\n",
       "  </tbody>\n",
       "</table>\n",
       "</div>"
      ],
      "text/plain": [
       "   outgoing_mins_per_month  outgoing_sms_per_month  monthly_mb  use_id  \\\n",
       "0                    21.97                    4.82     1557.33   22787   \n",
       "1                  1710.08                  136.88     7267.55   22788   \n",
       "2                  1710.08                  136.88     7267.55   22789   \n",
       "3                    94.46                   35.17      519.12   22790   \n",
       "4                    71.59                   79.26     1557.33   22792   \n",
       "\n",
       "  platform    device manufacturer     Model  \n",
       "0  android  GT-I9505      Samsung  GT-I9505  \n",
       "1  android  SM-G930F      Samsung  SM-G930F  \n",
       "2  android  SM-G930F      Samsung  SM-G930F  \n",
       "3  android     D2303         Sony     D2303  \n",
       "4  android  SM-G361F      Samsung  SM-G361F  "
      ]
     },
     "execution_count": 44,
     "metadata": {},
     "output_type": "execute_result"
    }
   ],
   "source": [
    "# First, add the platform and device to the user usage.\n",
    "merged = pd.merge(user_usage,\n",
    "                 user_device[['use_id', 'platform', 'device']],\n",
    "                 on='use_id',\n",
    "                 how='left')\n",
    "\n",
    "# Now, based on the \"device\" column in result, match the \"Model\" column in devices.\n",
    "android_devices.rename(columns={\"Retail Branding\": \"manufacturer\"},\n",
    "                       inplace=True)\n",
    "merged = pd.merge(result, \n",
    "                  android_devices[['manufacturer', 'Model']],\n",
    "                  left_on='device',\n",
    "                  right_on='Model',\n",
    "                  how='left')\n",
    "\n",
    "merged.head()\n",
    "                  \n",
    "                              "
   ]
  },
  {
   "cell_type": "code",
   "execution_count": 46,
   "metadata": {},
   "outputs": [
    {
     "data": {
      "text/html": [
       "<div>\n",
       "<style scoped>\n",
       "    .dataframe tbody tr th:only-of-type {\n",
       "        vertical-align: middle;\n",
       "    }\n",
       "\n",
       "    .dataframe tbody tr th {\n",
       "        vertical-align: top;\n",
       "    }\n",
       "\n",
       "    .dataframe thead th {\n",
       "        text-align: right;\n",
       "    }\n",
       "</style>\n",
       "<table border=\"1\" class=\"dataframe\">\n",
       "  <thead>\n",
       "    <tr style=\"text-align: right;\">\n",
       "      <th></th>\n",
       "      <th>manufacturer</th>\n",
       "      <th>Marketing Name</th>\n",
       "      <th>Device</th>\n",
       "      <th>Model</th>\n",
       "    </tr>\n",
       "  </thead>\n",
       "  <tbody>\n",
       "    <tr>\n",
       "      <td>10381</td>\n",
       "      <td>Samsung</td>\n",
       "      <td>Galaxy S7</td>\n",
       "      <td>herolte</td>\n",
       "      <td>SM-G930F</td>\n",
       "    </tr>\n",
       "  </tbody>\n",
       "</table>\n",
       "</div>"
      ],
      "text/plain": [
       "      manufacturer Marketing Name   Device     Model\n",
       "10381      Samsung      Galaxy S7  herolte  SM-G930F"
      ]
     },
     "execution_count": 46,
     "metadata": {},
     "output_type": "execute_result"
    }
   ],
   "source": [
    "android_devices[android_devices.Model == 'SM-G930F']"
   ]
  },
  {
   "cell_type": "code",
   "execution_count": 47,
   "metadata": {},
   "outputs": [
    {
     "data": {
      "text/html": [
       "<div>\n",
       "<style scoped>\n",
       "    .dataframe tbody tr th:only-of-type {\n",
       "        vertical-align: middle;\n",
       "    }\n",
       "\n",
       "    .dataframe tbody tr th {\n",
       "        vertical-align: top;\n",
       "    }\n",
       "\n",
       "    .dataframe thead th {\n",
       "        text-align: right;\n",
       "    }\n",
       "</style>\n",
       "<table border=\"1\" class=\"dataframe\">\n",
       "  <thead>\n",
       "    <tr style=\"text-align: right;\">\n",
       "      <th></th>\n",
       "      <th>manufacturer</th>\n",
       "      <th>Marketing Name</th>\n",
       "      <th>Device</th>\n",
       "      <th>Model</th>\n",
       "    </tr>\n",
       "  </thead>\n",
       "  <tbody>\n",
       "    <tr>\n",
       "      <td>1095</td>\n",
       "      <td>Bitmore</td>\n",
       "      <td>GTAB700</td>\n",
       "      <td>GTAB700</td>\n",
       "      <td>NID_7010</td>\n",
       "    </tr>\n",
       "    <tr>\n",
       "      <td>1096</td>\n",
       "      <td>Bitmore</td>\n",
       "      <td>GTAB900</td>\n",
       "      <td>GTAB900</td>\n",
       "      <td>S952</td>\n",
       "    </tr>\n",
       "    <tr>\n",
       "      <td>2402</td>\n",
       "      <td>Grundig</td>\n",
       "      <td>GTB1050</td>\n",
       "      <td>GTB1050</td>\n",
       "      <td>GTB 1050</td>\n",
       "    </tr>\n",
       "    <tr>\n",
       "      <td>2403</td>\n",
       "      <td>Grundig</td>\n",
       "      <td>GTB850</td>\n",
       "      <td>GTB850</td>\n",
       "      <td>GTB 850</td>\n",
       "    </tr>\n",
       "    <tr>\n",
       "      <td>2404</td>\n",
       "      <td>Grundig</td>\n",
       "      <td>TC69CA2</td>\n",
       "      <td>GTB801</td>\n",
       "      <td>GTB 801</td>\n",
       "    </tr>\n",
       "    <tr>\n",
       "      <td>...</td>\n",
       "      <td>...</td>\n",
       "      <td>...</td>\n",
       "      <td>...</td>\n",
       "      <td>...</td>\n",
       "    </tr>\n",
       "    <tr>\n",
       "      <td>10821</td>\n",
       "      <td>Samsung</td>\n",
       "      <td>Galaxy Y Pro</td>\n",
       "      <td>GT-B5510L</td>\n",
       "      <td>GT-B5510L</td>\n",
       "    </tr>\n",
       "    <tr>\n",
       "      <td>10822</td>\n",
       "      <td>Samsung</td>\n",
       "      <td>Galaxy Y Pro Duos</td>\n",
       "      <td>GT-B5512</td>\n",
       "      <td>GT-B5512</td>\n",
       "    </tr>\n",
       "    <tr>\n",
       "      <td>10823</td>\n",
       "      <td>Samsung</td>\n",
       "      <td>Galaxy Y Pro Duos</td>\n",
       "      <td>GT-B5512B</td>\n",
       "      <td>GT-B5512B</td>\n",
       "    </tr>\n",
       "    <tr>\n",
       "      <td>10824</td>\n",
       "      <td>Samsung</td>\n",
       "      <td>Galaxy Y TV</td>\n",
       "      <td>GT-S5367</td>\n",
       "      <td>GT-S5367</td>\n",
       "    </tr>\n",
       "    <tr>\n",
       "      <td>10979</td>\n",
       "      <td>Sharp</td>\n",
       "      <td>AQUOS SERIE mini SHV38</td>\n",
       "      <td>GTQ</td>\n",
       "      <td>SHV38</td>\n",
       "    </tr>\n",
       "  </tbody>\n",
       "</table>\n",
       "<p>164 rows × 4 columns</p>\n",
       "</div>"
      ],
      "text/plain": [
       "      manufacturer          Marketing Name     Device      Model\n",
       "1095       Bitmore                 GTAB700    GTAB700   NID_7010\n",
       "1096       Bitmore                 GTAB900    GTAB900       S952\n",
       "2402       Grundig                 GTB1050    GTB1050   GTB 1050\n",
       "2403       Grundig                  GTB850     GTB850    GTB 850\n",
       "2404       Grundig                 TC69CA2     GTB801    GTB 801\n",
       "...            ...                     ...        ...        ...\n",
       "10821      Samsung            Galaxy Y Pro  GT-B5510L  GT-B5510L\n",
       "10822      Samsung       Galaxy Y Pro Duos   GT-B5512   GT-B5512\n",
       "10823      Samsung       Galaxy Y Pro Duos  GT-B5512B  GT-B5512B\n",
       "10824      Samsung             Galaxy Y TV   GT-S5367   GT-S5367\n",
       "10979        Sharp  AQUOS SERIE mini SHV38        GTQ      SHV38\n",
       "\n",
       "[164 rows x 4 columns]"
      ]
     },
     "execution_count": 47,
     "metadata": {},
     "output_type": "execute_result"
    }
   ],
   "source": [
    "android_devices[android_devices.Device.str.startswith('GT')]"
   ]
  },
  {
   "cell_type": "code",
   "execution_count": 41,
   "metadata": {},
   "outputs": [
    {
     "data": {
      "text/html": [
       "<div>\n",
       "<style scoped>\n",
       "    .dataframe tbody tr th:only-of-type {\n",
       "        vertical-align: middle;\n",
       "    }\n",
       "\n",
       "    .dataframe tbody tr th {\n",
       "        vertical-align: top;\n",
       "    }\n",
       "\n",
       "    .dataframe thead th {\n",
       "        text-align: right;\n",
       "    }\n",
       "</style>\n",
       "<table border=\"1\" class=\"dataframe\">\n",
       "  <thead>\n",
       "    <tr style=\"text-align: right;\">\n",
       "      <th></th>\n",
       "      <th>outgoing_mins_per_month</th>\n",
       "      <th>outgoing_sms_per_month</th>\n",
       "      <th>monthly_mb</th>\n",
       "      <th>use_id</th>\n",
       "      <th>platform</th>\n",
       "      <th>device</th>\n",
       "    </tr>\n",
       "  </thead>\n",
       "  <tbody>\n",
       "    <tr>\n",
       "      <td>0</td>\n",
       "      <td>21.97</td>\n",
       "      <td>4.82</td>\n",
       "      <td>1557.33</td>\n",
       "      <td>22787</td>\n",
       "      <td>android</td>\n",
       "      <td>GT-I9505</td>\n",
       "    </tr>\n",
       "    <tr>\n",
       "      <td>1</td>\n",
       "      <td>1710.08</td>\n",
       "      <td>136.88</td>\n",
       "      <td>7267.55</td>\n",
       "      <td>22788</td>\n",
       "      <td>android</td>\n",
       "      <td>SM-G930F</td>\n",
       "    </tr>\n",
       "    <tr>\n",
       "      <td>2</td>\n",
       "      <td>1710.08</td>\n",
       "      <td>136.88</td>\n",
       "      <td>7267.55</td>\n",
       "      <td>22789</td>\n",
       "      <td>android</td>\n",
       "      <td>SM-G930F</td>\n",
       "    </tr>\n",
       "    <tr>\n",
       "      <td>3</td>\n",
       "      <td>94.46</td>\n",
       "      <td>35.17</td>\n",
       "      <td>519.12</td>\n",
       "      <td>22790</td>\n",
       "      <td>android</td>\n",
       "      <td>D2303</td>\n",
       "    </tr>\n",
       "    <tr>\n",
       "      <td>4</td>\n",
       "      <td>71.59</td>\n",
       "      <td>79.26</td>\n",
       "      <td>1557.33</td>\n",
       "      <td>22792</td>\n",
       "      <td>android</td>\n",
       "      <td>SM-G361F</td>\n",
       "    </tr>\n",
       "  </tbody>\n",
       "</table>\n",
       "</div>"
      ],
      "text/plain": [
       "   outgoing_mins_per_month  outgoing_sms_per_month  monthly_mb  use_id  \\\n",
       "0                    21.97                    4.82     1557.33   22787   \n",
       "1                  1710.08                  136.88     7267.55   22788   \n",
       "2                  1710.08                  136.88     7267.55   22789   \n",
       "3                    94.46                   35.17      519.12   22790   \n",
       "4                    71.59                   79.26     1557.33   22792   \n",
       "\n",
       "  platform    device  \n",
       "0  android  GT-I9505  \n",
       "1  android  SM-G930F  \n",
       "2  android  SM-G930F  \n",
       "3  android     D2303  \n",
       "4  android  SM-G361F  "
      ]
     },
     "execution_count": 41,
     "metadata": {},
     "output_type": "execute_result"
    }
   ],
   "source": [
    "merged.head()"
   ]
  },
  {
   "cell_type": "code",
   "execution_count": 48,
   "metadata": {},
   "outputs": [
    {
     "data": {
      "text/html": [
       "<div>\n",
       "<style scoped>\n",
       "    .dataframe tbody tr th:only-of-type {\n",
       "        vertical-align: middle;\n",
       "    }\n",
       "\n",
       "    .dataframe tbody tr th {\n",
       "        vertical-align: top;\n",
       "    }\n",
       "\n",
       "    .dataframe thead th {\n",
       "        text-align: right;\n",
       "    }\n",
       "</style>\n",
       "<table border=\"1\" class=\"dataframe\">\n",
       "  <thead>\n",
       "    <tr style=\"text-align: right;\">\n",
       "      <th></th>\n",
       "      <th>outgoing_mins_per_month</th>\n",
       "      <th>outgoing_sms_per_month</th>\n",
       "      <th>monthly_mb</th>\n",
       "      <th>use_id</th>\n",
       "    </tr>\n",
       "    <tr>\n",
       "      <th>manufacturer</th>\n",
       "      <th></th>\n",
       "      <th></th>\n",
       "      <th></th>\n",
       "      <th></th>\n",
       "    </tr>\n",
       "  </thead>\n",
       "  <tbody>\n",
       "    <tr>\n",
       "      <td>HTC</td>\n",
       "      <td>299.842955</td>\n",
       "      <td>93.059318</td>\n",
       "      <td>5144.077955</td>\n",
       "      <td>44</td>\n",
       "    </tr>\n",
       "    <tr>\n",
       "      <td>Huawei</td>\n",
       "      <td>81.526667</td>\n",
       "      <td>9.500000</td>\n",
       "      <td>1561.226667</td>\n",
       "      <td>3</td>\n",
       "    </tr>\n",
       "    <tr>\n",
       "      <td>LGE</td>\n",
       "      <td>111.530000</td>\n",
       "      <td>12.760000</td>\n",
       "      <td>1557.330000</td>\n",
       "      <td>2</td>\n",
       "    </tr>\n",
       "    <tr>\n",
       "      <td>Lava</td>\n",
       "      <td>60.650000</td>\n",
       "      <td>261.900000</td>\n",
       "      <td>12458.670000</td>\n",
       "      <td>2</td>\n",
       "    </tr>\n",
       "    <tr>\n",
       "      <td>Lenovo</td>\n",
       "      <td>215.920000</td>\n",
       "      <td>12.930000</td>\n",
       "      <td>1557.330000</td>\n",
       "      <td>2</td>\n",
       "    </tr>\n",
       "    <tr>\n",
       "      <td>Motorola</td>\n",
       "      <td>95.127500</td>\n",
       "      <td>65.666250</td>\n",
       "      <td>3946.500000</td>\n",
       "      <td>16</td>\n",
       "    </tr>\n",
       "    <tr>\n",
       "      <td>OnePlus</td>\n",
       "      <td>354.855000</td>\n",
       "      <td>48.330000</td>\n",
       "      <td>6575.410000</td>\n",
       "      <td>6</td>\n",
       "    </tr>\n",
       "    <tr>\n",
       "      <td>Samsung</td>\n",
       "      <td>191.010093</td>\n",
       "      <td>92.390463</td>\n",
       "      <td>4017.318889</td>\n",
       "      <td>108</td>\n",
       "    </tr>\n",
       "    <tr>\n",
       "      <td>Sony</td>\n",
       "      <td>177.315625</td>\n",
       "      <td>40.176250</td>\n",
       "      <td>3212.000625</td>\n",
       "      <td>16</td>\n",
       "    </tr>\n",
       "    <tr>\n",
       "      <td>Vodafone</td>\n",
       "      <td>42.750000</td>\n",
       "      <td>46.830000</td>\n",
       "      <td>5191.120000</td>\n",
       "      <td>1</td>\n",
       "    </tr>\n",
       "    <tr>\n",
       "      <td>ZTE</td>\n",
       "      <td>42.750000</td>\n",
       "      <td>46.830000</td>\n",
       "      <td>5191.120000</td>\n",
       "      <td>1</td>\n",
       "    </tr>\n",
       "  </tbody>\n",
       "</table>\n",
       "</div>"
      ],
      "text/plain": [
       "              outgoing_mins_per_month  outgoing_sms_per_month    monthly_mb  \\\n",
       "manufacturer                                                                  \n",
       "HTC                        299.842955               93.059318   5144.077955   \n",
       "Huawei                      81.526667                9.500000   1561.226667   \n",
       "LGE                        111.530000               12.760000   1557.330000   \n",
       "Lava                        60.650000              261.900000  12458.670000   \n",
       "Lenovo                     215.920000               12.930000   1557.330000   \n",
       "Motorola                    95.127500               65.666250   3946.500000   \n",
       "OnePlus                    354.855000               48.330000   6575.410000   \n",
       "Samsung                    191.010093               92.390463   4017.318889   \n",
       "Sony                       177.315625               40.176250   3212.000625   \n",
       "Vodafone                    42.750000               46.830000   5191.120000   \n",
       "ZTE                         42.750000               46.830000   5191.120000   \n",
       "\n",
       "              use_id  \n",
       "manufacturer          \n",
       "HTC               44  \n",
       "Huawei             3  \n",
       "LGE                2  \n",
       "Lava               2  \n",
       "Lenovo             2  \n",
       "Motorola          16  \n",
       "OnePlus            6  \n",
       "Samsung          108  \n",
       "Sony              16  \n",
       "Vodafone           1  \n",
       "ZTE                1  "
      ]
     },
     "execution_count": 48,
     "metadata": {},
     "output_type": "execute_result"
    }
   ],
   "source": [
    "merged.groupby(\"manufacturer\").agg({\n",
    "        \"outgoing_mins_per_month\": \"mean\",\n",
    "        \"outgoing_sms_per_month\": \"mean\",\n",
    "        \"monthly_mb\": \"mean\",\n",
    "        \"use_id\": \"count\"\n",
    "    })"
   ]
  },
  {
   "cell_type": "markdown",
   "metadata": {},
   "source": [
    "# Pandasql"
   ]
  },
  {
   "cell_type": "code",
   "execution_count": null,
   "metadata": {},
   "outputs": [],
   "source": [
    "\n",
    "import pandasql as ps"
   ]
  },
  {
   "cell_type": "code",
   "execution_count": 22,
   "metadata": {
    "scrolled": true
   },
   "outputs": [
    {
     "data": {
      "text/html": [
       "<div>\n",
       "<style scoped>\n",
       "    .dataframe tbody tr th:only-of-type {\n",
       "        vertical-align: middle;\n",
       "    }\n",
       "\n",
       "    .dataframe tbody tr th {\n",
       "        vertical-align: top;\n",
       "    }\n",
       "\n",
       "    .dataframe thead th {\n",
       "        text-align: right;\n",
       "    }\n",
       "</style>\n",
       "<table border=\"1\" class=\"dataframe\">\n",
       "  <thead>\n",
       "    <tr style=\"text-align: right;\">\n",
       "      <th></th>\n",
       "      <th>outgoing_mins_per_month</th>\n",
       "      <th>outgoing_sms_per_month</th>\n",
       "      <th>monthly_mb</th>\n",
       "      <th>use_id</th>\n",
       "      <th>device</th>\n",
       "      <th>platform</th>\n",
       "    </tr>\n",
       "  </thead>\n",
       "  <tbody>\n",
       "    <tr>\n",
       "      <th>235</th>\n",
       "      <td>260.66</td>\n",
       "      <td>68.44</td>\n",
       "      <td>896.96</td>\n",
       "      <td>NaN</td>\n",
       "      <td>None</td>\n",
       "      <td>None</td>\n",
       "    </tr>\n",
       "    <tr>\n",
       "      <th>236</th>\n",
       "      <td>97.12</td>\n",
       "      <td>36.50</td>\n",
       "      <td>2815.00</td>\n",
       "      <td>NaN</td>\n",
       "      <td>None</td>\n",
       "      <td>None</td>\n",
       "    </tr>\n",
       "    <tr>\n",
       "      <th>237</th>\n",
       "      <td>355.93</td>\n",
       "      <td>12.37</td>\n",
       "      <td>6828.09</td>\n",
       "      <td>NaN</td>\n",
       "      <td>None</td>\n",
       "      <td>None</td>\n",
       "    </tr>\n",
       "    <tr>\n",
       "      <th>238</th>\n",
       "      <td>632.06</td>\n",
       "      <td>120.46</td>\n",
       "      <td>1453.16</td>\n",
       "      <td>NaN</td>\n",
       "      <td>None</td>\n",
       "      <td>None</td>\n",
       "    </tr>\n",
       "    <tr>\n",
       "      <th>239</th>\n",
       "      <td>488.70</td>\n",
       "      <td>906.92</td>\n",
       "      <td>3089.85</td>\n",
       "      <td>NaN</td>\n",
       "      <td>None</td>\n",
       "      <td>None</td>\n",
       "    </tr>\n",
       "  </tbody>\n",
       "</table>\n",
       "</div>"
      ],
      "text/plain": [
       "     outgoing_mins_per_month  outgoing_sms_per_month  monthly_mb  use_id  \\\n",
       "235                   260.66                   68.44      896.96     NaN   \n",
       "236                    97.12                   36.50     2815.00     NaN   \n",
       "237                   355.93                   12.37     6828.09     NaN   \n",
       "238                   632.06                  120.46     1453.16     NaN   \n",
       "239                   488.70                  906.92     3089.85     NaN   \n",
       "\n",
       "    device platform  \n",
       "235   None     None  \n",
       "236   None     None  \n",
       "237   None     None  \n",
       "238   None     None  \n",
       "239   None     None  "
      ]
     },
     "execution_count": 22,
     "metadata": {},
     "output_type": "execute_result"
    }
   ],
   "source": [
    "# pandasql code\n",
    "def lj_pandasql(user_usage, user_device):\n",
    "    join_query = '''\n",
    "       SELECT user_usage.outgoing_mins_per_month, \n",
    "               user_usage.outgoing_sms_per_month,\n",
    "               user_usage.monthly_mb,\n",
    "               user_device.use_id,\n",
    "               user_device.device,\n",
    "               user_device.platform\n",
    "               \n",
    "        FROM user_usage\n",
    "        LEFT JOIN user_device\n",
    "        ON user_usage.use_id = user_device.use_id;\n",
    "    '''\n",
    "    return ps.sqldf(join_query, locals())\n",
    "lj_pandasql(user_usage, user_device).tail()"
   ]
  },
  {
   "cell_type": "markdown",
   "metadata": {},
   "source": [
    "# Агрегирование"
   ]
  },
  {
   "cell_type": "markdown",
   "metadata": {},
   "source": [
    "### pandasql"
   ]
  },
  {
   "cell_type": "code",
   "execution_count": 112,
   "metadata": {},
   "outputs": [
    {
     "data": {
      "text/html": [
       "<div>\n",
       "<style scoped>\n",
       "    .dataframe tbody tr th:only-of-type {\n",
       "        vertical-align: middle;\n",
       "    }\n",
       "\n",
       "    .dataframe tbody tr th {\n",
       "        vertical-align: top;\n",
       "    }\n",
       "\n",
       "    .dataframe thead th {\n",
       "        text-align: right;\n",
       "    }\n",
       "</style>\n",
       "<table border=\"1\" class=\"dataframe\">\n",
       "  <thead>\n",
       "    <tr style=\"text-align: right;\">\n",
       "      <th></th>\n",
       "      <th>avg_monthly_mb</th>\n",
       "      <th>platform</th>\n",
       "    </tr>\n",
       "  </thead>\n",
       "  <tbody>\n",
       "    <tr>\n",
       "      <th>0</th>\n",
       "      <td>2545.485062</td>\n",
       "      <td>None</td>\n",
       "    </tr>\n",
       "    <tr>\n",
       "      <th>1</th>\n",
       "      <td>4221.387834</td>\n",
       "      <td>android</td>\n",
       "    </tr>\n",
       "    <tr>\n",
       "      <th>2</th>\n",
       "      <td>961.155000</td>\n",
       "      <td>ios</td>\n",
       "    </tr>\n",
       "  </tbody>\n",
       "</table>\n",
       "</div>"
      ],
      "text/plain": [
       "   avg_monthly_mb platform\n",
       "0     2545.485062     None\n",
       "1     4221.387834  android\n",
       "2      961.155000      ios"
      ]
     },
     "execution_count": 112,
     "metadata": {},
     "output_type": "execute_result"
    }
   ],
   "source": [
    "from datetime import datetime\n",
    "def aggr_pandasql(user_usage, user_device):\n",
    "    aggreg_query = '''\n",
    "       SELECT avg(user_usage.monthly_mb) as avg_monthly_mb, \n",
    "               user_device.platform      \n",
    "        FROM user_usage\n",
    "        LEFT JOIN user_device\n",
    "        ON user_usage.use_id = user_device.use_id\n",
    "        GROUP BY user_device.platform;\n",
    "    '''\n",
    "    return ps.sqldf(aggreg_query, locals())\n",
    "aggr_pandasql(user_usage, user_device)"
   ]
  },
  {
   "cell_type": "code",
   "execution_count": 51,
   "metadata": {},
   "outputs": [
    {
     "data": {
      "text/plain": [
       "datetime.timedelta(microseconds=28319)"
      ]
     },
     "execution_count": 51,
     "metadata": {},
     "output_type": "execute_result"
    }
   ],
   "source": []
  },
  {
   "cell_type": "markdown",
   "metadata": {},
   "source": [
    "### pandas"
   ]
  },
  {
   "cell_type": "code",
   "execution_count": 41,
   "metadata": {},
   "outputs": [
    {
     "data": {
      "text/html": [
       "<div>\n",
       "<style scoped>\n",
       "    .dataframe tbody tr th:only-of-type {\n",
       "        vertical-align: middle;\n",
       "    }\n",
       "\n",
       "    .dataframe tbody tr th {\n",
       "        vertical-align: top;\n",
       "    }\n",
       "\n",
       "    .dataframe thead th {\n",
       "        text-align: right;\n",
       "    }\n",
       "</style>\n",
       "<table border=\"1\" class=\"dataframe\">\n",
       "  <thead>\n",
       "    <tr style=\"text-align: right;\">\n",
       "      <th></th>\n",
       "      <th>outgoing_mins_per_month</th>\n",
       "      <th>outgoing_sms_per_month</th>\n",
       "      <th>monthly_mb</th>\n",
       "      <th>use_id</th>\n",
       "    </tr>\n",
       "    <tr>\n",
       "      <th>platform</th>\n",
       "      <th></th>\n",
       "      <th></th>\n",
       "      <th></th>\n",
       "      <th></th>\n",
       "    </tr>\n",
       "  </thead>\n",
       "  <tbody>\n",
       "    <tr>\n",
       "      <th>android</th>\n",
       "      <td>201.258535</td>\n",
       "      <td>85.354586</td>\n",
       "      <td>4221.387834</td>\n",
       "      <td>22922.350318</td>\n",
       "    </tr>\n",
       "    <tr>\n",
       "      <th>ios</th>\n",
       "      <td>366.060000</td>\n",
       "      <td>293.975000</td>\n",
       "      <td>961.155000</td>\n",
       "      <td>22920.500000</td>\n",
       "    </tr>\n",
       "  </tbody>\n",
       "</table>\n",
       "</div>"
      ],
      "text/plain": [
       "          outgoing_mins_per_month  outgoing_sms_per_month   monthly_mb  \\\n",
       "platform                                                                 \n",
       "android                201.258535               85.354586  4221.387834   \n",
       "ios                    366.060000              293.975000   961.155000   \n",
       "\n",
       "                use_id  \n",
       "platform                \n",
       "android   22922.350318  \n",
       "ios       22920.500000  "
      ]
     },
     "execution_count": 41,
     "metadata": {},
     "output_type": "execute_result"
    }
   ],
   "source": [
    "merged = pd.merge(user_usage,\n",
    "                 user_device[['use_id', 'device', 'platform']],\n",
    "                 on='use_id',\n",
    "                  how='left')\n",
    "merged.groupby('platform').mean()"
   ]
  },
  {
   "cell_type": "markdown",
   "metadata": {},
   "source": [
    "# TIME"
   ]
  },
  {
   "cell_type": "code",
   "execution_count": 125,
   "metadata": {},
   "outputs": [
    {
     "data": {
      "text/plain": [
       "0.014299607276916504"
      ]
     },
     "execution_count": 125,
     "metadata": {},
     "output_type": "execute_result"
    }
   ],
   "source": [
    "import time\n",
    "\n",
    "def count_mean_time(func, params, N =5):\n",
    "    total_time = 0\n",
    "    for i in range(N):\n",
    "        time1 = time.time()\n",
    "        if len(params) == 1:\n",
    "            tmp_df = func(params[0])\n",
    "        elif len(params) == 2:\n",
    "            tmp_df = func(params[0], params[1])\n",
    "        time2 = time.time()\n",
    "        total_time += (time2 - time1)\n",
    "    return total_time/N\n",
    "\n",
    "lj_ps_mean = count_mean_time(lj_pandasql, \n",
    "                             [user_usage, user_device], N=40)\n",
    "lj_ps_mean"
   ]
  },
  {
   "cell_type": "code",
   "execution_count": 126,
   "metadata": {},
   "outputs": [
    {
     "data": {
      "text/plain": [
       "0.007319676876068115"
      ]
     },
     "execution_count": 126,
     "metadata": {},
     "output_type": "execute_result"
    }
   ],
   "source": [
    "def pd_merge_group(user_usage, user_device):\n",
    "    merged = pd.merge(user_usage,\n",
    "                 user_device[['use_id', 'device', 'platform']],\n",
    "                 on='use_id',\n",
    "                  how='left')\n",
    "    res = merged.groupby('platform').mean()\n",
    "    return res\n",
    "pd_merge_group_mean = count_mean_time(pd_merge_group, \n",
    "                             [user_usage, user_device], N=40)\n",
    "pd_merge_group_mean"
   ]
  },
  {
   "cell_type": "code",
   "execution_count": 127,
   "metadata": {},
   "outputs": [
    {
     "data": {
      "text/plain": [
       "0.004346024990081787"
      ]
     },
     "execution_count": 127,
     "metadata": {},
     "output_type": "execute_result"
    }
   ],
   "source": [
    "def pd_merge(user_usage, user_device):\n",
    "    merged = pd.merge(user_usage,\n",
    "                 user_device[['use_id', 'device', 'platform']],\n",
    "                 on='use_id',\n",
    "                  how='left')\n",
    "    return merged\n",
    "pd_merge_mean = count_mean_time(pd_merge, \n",
    "                                [user_usage, user_device], N=40)\n",
    "pd_merge_mean"
   ]
  },
  {
   "cell_type": "code",
   "execution_count": 128,
   "metadata": {},
   "outputs": [
    {
     "data": {
      "text/plain": [
       "0.01447572112083435"
      ]
     },
     "execution_count": 128,
     "metadata": {},
     "output_type": "execute_result"
    }
   ],
   "source": [
    "aggr_ps_mean = count_mean_time(aggr_pandasql, \n",
    "                             [user_usage, user_device], N=40)\n",
    "aggr_ps_mean"
   ]
  },
  {
   "cell_type": "code",
   "execution_count": 129,
   "metadata": {},
   "outputs": [
    {
     "data": {
      "text/plain": [
       "0.009953582286834718"
      ]
     },
     "execution_count": 129,
     "metadata": {},
     "output_type": "execute_result"
    }
   ],
   "source": [
    "merge_delta = lj_ps_mean - pd_merge_mean\n",
    "merge_delta"
   ]
  },
  {
   "cell_type": "code",
   "execution_count": 130,
   "metadata": {},
   "outputs": [
    {
     "data": {
      "text/plain": [
       "0.0071560442447662345"
      ]
     },
     "execution_count": 130,
     "metadata": {},
     "output_type": "execute_result"
    }
   ],
   "source": [
    "aggr_delta = aggr_ps_mean - pd_merge_group_mean\n",
    "aggr_delta"
   ]
  },
  {
   "cell_type": "markdown",
   "metadata": {},
   "source": [
    "Вывод: pandasql дольше работает"
   ]
  }
 ],
 "metadata": {
  "kernelspec": {
   "display_name": "Python 3",
   "language": "python",
   "name": "python3"
  },
  "language_info": {
   "codemirror_mode": {
    "name": "ipython",
    "version": 3
   },
   "file_extension": ".py",
   "mimetype": "text/x-python",
   "name": "python",
   "nbconvert_exporter": "python",
   "pygments_lexer": "ipython3",
   "version": "3.7.4"
  }
 },
 "nbformat": 4,
 "nbformat_minor": 4
}
